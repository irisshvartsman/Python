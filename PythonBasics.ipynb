{
 "cells": [
  {
   "cell_type": "markdown",
   "metadata": {},
   "source": [
    "Simple for loop:"
   ]
  },
  {
   "cell_type": "code",
   "execution_count": 2,
   "metadata": {},
   "outputs": [
    {
     "name": "stdout",
     "output_type": "stream",
     "text": [
      "0.20391226713806065\n",
      "0.7568278216030913\n",
      "0.426304762600647\n",
      "0.4246547676856868\n",
      "0.35714850277086085\n",
      "0.8687556304661959\n",
      "0.6746775156522227\n",
      "0.8870354570448432\n",
      "0.857621583006617\n",
      "0.36168544181606754\n"
     ]
    }
   ],
   "source": [
    "import random\n",
    "\n",
    "for i in range(10):\n",
    "    x=random.random()\n",
    "    print(x)"
   ]
  },
  {
   "cell_type": "markdown",
   "metadata": {},
   "source": [
    "# More Loops\n",
    "This loop will accept strings as an input and then output the characters in reverse order:"
   ]
  },
  {
   "cell_type": "code",
   "execution_count": 14,
   "metadata": {},
   "outputs": [
    {
     "name": "stdout",
     "output_type": "stream",
     "text": [
      "hello\n",
      "olleh\n",
      "done\n"
     ]
    }
   ],
   "source": [
    "while True:\n",
    "    line=input()\n",
    "    if line =='done':\n",
    "        break\n",
    "    else:\n",
    "        rev=line[::-1]\n",
    "        print(rev)"
   ]
  },
  {
   "cell_type": "markdown",
   "metadata": {},
   "source": [
    "This loop below will accept strings as an input and then output the characters in reverse order, letter by letter."
   ]
  },
  {
   "cell_type": "code",
   "execution_count": 15,
   "metadata": {},
   "outputs": [
    {
     "name": "stdout",
     "output_type": "stream",
     "text": [
      "hello\n",
      "o\n",
      "l\n",
      "l\n",
      "e\n",
      "h\n"
     ]
    }
   ],
   "source": [
    "inp = input()\n",
    "\n",
    "for i in range(0,len(inp)):\n",
    "    print(inp[len(inp)-1-i])"
   ]
  },
  {
   "cell_type": "markdown",
   "metadata": {},
   "source": [
    "A simple function:"
   ]
  },
  {
   "cell_type": "code",
   "execution_count": 3,
   "metadata": {},
   "outputs": [
    {
     "name": "stdout",
     "output_type": "stream",
     "text": [
      "11\n"
     ]
    }
   ],
   "source": [
    "def simplefunction(a,b):\n",
    "    total=a+b+a\n",
    "    return total\n",
    "\n",
    "result=simplefunction(5,1)\n",
    "\n",
    "print(result)"
   ]
  },
  {
   "cell_type": "markdown",
   "metadata": {},
   "source": [
    "# More Functions\n",
    "In this sections we will create functions to calculate pay rate, grades and also an input function"
   ]
  },
  {
   "cell_type": "code",
   "execution_count": 5,
   "metadata": {},
   "outputs": [
    {
     "name": "stdout",
     "output_type": "stream",
     "text": [
      "$ 937.5 You earned overtime!\n"
     ]
    }
   ],
   "source": [
    "def compute_pay(hours,rate):\n",
    "    if hours<=40:\n",
    "        print(float(hours)*float(rate))\n",
    "    elif hours>40:\n",
    "        print('$', (float(hours)*float(rate*1.5)), 'You earned overtime!')\n",
    "        \n",
    "        \n",
    "        \n",
    "        \n",
    "compute_pay(50, 12.50) #change the inputs to see different results from the function"
   ]
  },
  {
   "cell_type": "markdown",
   "metadata": {},
   "source": [
    "Re-writing the compute pay program to catch exceptions:"
   ]
  },
  {
   "cell_type": "code",
   "execution_count": 18,
   "metadata": {},
   "outputs": [
    {
     "name": "stdout",
     "output_type": "stream",
     "text": [
      "Enter hours:\n",
      "12\n",
      "Enter rate:\n",
      "15\n",
      "180.0\n"
     ]
    }
   ],
   "source": [
    "try:\n",
    "    hours = int(input('Enter hours:\\n'))\n",
    "    rate = float(input('Enter rate:\\n'))\n",
    "    if hours <= 40:\n",
    "        print(hours * rate)\n",
    "    elif hours > 40:\n",
    "        print('$', (40 * rate) + ((hours - 40) * rate), 'You earned overtime!')\n",
    "except:  \n",
    "\tprint('You did not enter a number')"
   ]
  },
  {
   "cell_type": "code",
   "execution_count": 11,
   "metadata": {},
   "outputs": [
    {
     "name": "stdout",
     "output_type": "stream",
     "text": [
      "Grade: C\n"
     ]
    }
   ],
   "source": [
    "def compute_grade(score):\n",
    "    if 0.9 <= score <= 1.0:\n",
    "        print('Grade: A')\n",
    "    elif 0.8 <= score < 0.9:\n",
    "        print('Grade: B')\n",
    "    elif 0.7 <= score < 0.8:\n",
    "        print('Grade: C')\n",
    "    elif 0.6 <= score < 0.7:\n",
    "        print('Grade: D')\n",
    "    elif score < 0.6:\n",
    "        print('Grade: F')\n",
    "    else:\n",
    "        print('ERROR: score out of range')\n",
    "        \n",
    "compute_grade(.70) #change the input to see different results from the function"
   ]
  },
  {
   "cell_type": "markdown",
   "metadata": {},
   "source": [
    "This next program (below) will repeatedly read numbers inputted by a user until the user enters 'done'. Once done is entered, the program should calculate and print out the sum total of all the numbers entered."
   ]
  },
  {
   "cell_type": "code",
   "execution_count": 13,
   "metadata": {},
   "outputs": [
    {
     "name": "stdout",
     "output_type": "stream",
     "text": [
      "> 6\n",
      "6.0 1 6.0\n",
      "continue...\n",
      "> 7\n",
      "13.0 2 6.5\n",
      "continue...\n",
      "> 8\n",
      "21.0 3 7.0\n",
      "continue...\n",
      "> 9\n",
      "30.0 4 7.5\n",
      "continue...\n",
      "> done\n",
      "30.0 4 7.5\n"
     ]
    }
   ],
   "source": [
    "num = None\n",
    "total = 0\n",
    "counter = 0\n",
    "\n",
    "while True:\n",
    "    line=(input('> '))\n",
    "    if line == 'done':\n",
    "        print(total, counter, average)\n",
    "        break\n",
    "    else:\n",
    "        line=float(line)\n",
    "        num = line\n",
    "        total = total + num\n",
    "        counter = counter + 1\n",
    "        average = total/counter\n",
    "        print(total, counter, average)\n",
    "    print('continue...')\n"
   ]
  }
 ],
 "metadata": {
  "kernelspec": {
   "display_name": "Python 3",
   "language": "python",
   "name": "python3"
  },
  "language_info": {
   "codemirror_mode": {
    "name": "ipython",
    "version": 3
   },
   "file_extension": ".py",
   "mimetype": "text/x-python",
   "name": "python",
   "nbconvert_exporter": "python",
   "pygments_lexer": "ipython3",
   "version": "3.6.5"
  }
 },
 "nbformat": 4,
 "nbformat_minor": 2
}
